{
 "cells": [
  {
   "cell_type": "markdown",
   "id": "b0a41063",
   "metadata": {},
   "source": [
    "# 1) EXPLORATION"
   ]
  },
  {
   "cell_type": "markdown",
   "id": "80efd5b9-69e1-418d-8af4-5eb4802108d7",
   "metadata": {
    "jp-MarkdownHeadingCollapsed": true,
    "tags": []
   },
   "source": [
    "## LOAD DATA"
   ]
  },
  {
   "cell_type": "code",
   "execution_count": 1,
   "id": "7053a21a-60b1-438e-9804-d4bf3e0077a9",
   "metadata": {},
   "outputs": [
    {
     "name": "stderr",
     "output_type": "stream",
     "text": [
      "/home/lluis/anaconda3/lib/python3.9/site-packages/scipy/__init__.py:146: UserWarning: A NumPy version >=1.16.5 and <1.23.0 is required for this version of SciPy (detected version 1.26.4\n",
      "  warnings.warn(f\"A NumPy version >={np_minversion} and <{np_maxversion}\"\n"
     ]
    },
    {
     "data": {
      "text/html": [
       "<div>\n",
       "<style scoped>\n",
       "    .dataframe tbody tr th:only-of-type {\n",
       "        vertical-align: middle;\n",
       "    }\n",
       "\n",
       "    .dataframe tbody tr th {\n",
       "        vertical-align: top;\n",
       "    }\n",
       "\n",
       "    .dataframe thead th {\n",
       "        text-align: right;\n",
       "    }\n",
       "</style>\n",
       "<table border=\"1\" class=\"dataframe\">\n",
       "  <thead>\n",
       "    <tr style=\"text-align: right;\">\n",
       "      <th></th>\n",
       "      <th>PassengerId</th>\n",
       "      <th>Survived</th>\n",
       "      <th>Pclass</th>\n",
       "      <th>Name</th>\n",
       "      <th>Sex</th>\n",
       "      <th>Age</th>\n",
       "      <th>SibSp</th>\n",
       "      <th>Parch</th>\n",
       "      <th>Ticket</th>\n",
       "      <th>Fare</th>\n",
       "      <th>Cabin</th>\n",
       "      <th>Embarked</th>\n",
       "    </tr>\n",
       "  </thead>\n",
       "  <tbody>\n",
       "    <tr>\n",
       "      <th>0</th>\n",
       "      <td>1</td>\n",
       "      <td>0</td>\n",
       "      <td>3</td>\n",
       "      <td>Braund, Mr. Owen Harris</td>\n",
       "      <td>male</td>\n",
       "      <td>22.0</td>\n",
       "      <td>1</td>\n",
       "      <td>0</td>\n",
       "      <td>A/5 21171</td>\n",
       "      <td>7.2500</td>\n",
       "      <td>NaN</td>\n",
       "      <td>S</td>\n",
       "    </tr>\n",
       "    <tr>\n",
       "      <th>1</th>\n",
       "      <td>2</td>\n",
       "      <td>1</td>\n",
       "      <td>1</td>\n",
       "      <td>Cumings, Mrs. John Bradley (Florence Briggs Th...</td>\n",
       "      <td>female</td>\n",
       "      <td>38.0</td>\n",
       "      <td>1</td>\n",
       "      <td>0</td>\n",
       "      <td>PC 17599</td>\n",
       "      <td>71.2833</td>\n",
       "      <td>C85</td>\n",
       "      <td>C</td>\n",
       "    </tr>\n",
       "    <tr>\n",
       "      <th>2</th>\n",
       "      <td>3</td>\n",
       "      <td>1</td>\n",
       "      <td>3</td>\n",
       "      <td>Heikkinen, Miss. Laina</td>\n",
       "      <td>female</td>\n",
       "      <td>26.0</td>\n",
       "      <td>0</td>\n",
       "      <td>0</td>\n",
       "      <td>STON/O2. 3101282</td>\n",
       "      <td>7.9250</td>\n",
       "      <td>NaN</td>\n",
       "      <td>S</td>\n",
       "    </tr>\n",
       "    <tr>\n",
       "      <th>3</th>\n",
       "      <td>4</td>\n",
       "      <td>1</td>\n",
       "      <td>1</td>\n",
       "      <td>Futrelle, Mrs. Jacques Heath (Lily May Peel)</td>\n",
       "      <td>female</td>\n",
       "      <td>35.0</td>\n",
       "      <td>1</td>\n",
       "      <td>0</td>\n",
       "      <td>113803</td>\n",
       "      <td>53.1000</td>\n",
       "      <td>C123</td>\n",
       "      <td>S</td>\n",
       "    </tr>\n",
       "    <tr>\n",
       "      <th>4</th>\n",
       "      <td>5</td>\n",
       "      <td>0</td>\n",
       "      <td>3</td>\n",
       "      <td>Allen, Mr. William Henry</td>\n",
       "      <td>male</td>\n",
       "      <td>35.0</td>\n",
       "      <td>0</td>\n",
       "      <td>0</td>\n",
       "      <td>373450</td>\n",
       "      <td>8.0500</td>\n",
       "      <td>NaN</td>\n",
       "      <td>S</td>\n",
       "    </tr>\n",
       "  </tbody>\n",
       "</table>\n",
       "</div>"
      ],
      "text/plain": [
       "   PassengerId  Survived  Pclass  \\\n",
       "0            1         0       3   \n",
       "1            2         1       1   \n",
       "2            3         1       3   \n",
       "3            4         1       1   \n",
       "4            5         0       3   \n",
       "\n",
       "                                                Name     Sex   Age  SibSp  \\\n",
       "0                            Braund, Mr. Owen Harris    male  22.0      1   \n",
       "1  Cumings, Mrs. John Bradley (Florence Briggs Th...  female  38.0      1   \n",
       "2                             Heikkinen, Miss. Laina  female  26.0      0   \n",
       "3       Futrelle, Mrs. Jacques Heath (Lily May Peel)  female  35.0      1   \n",
       "4                           Allen, Mr. William Henry    male  35.0      0   \n",
       "\n",
       "   Parch            Ticket     Fare Cabin Embarked  \n",
       "0      0         A/5 21171   7.2500   NaN        S  \n",
       "1      0          PC 17599  71.2833   C85        C  \n",
       "2      0  STON/O2. 3101282   7.9250   NaN        S  \n",
       "3      0            113803  53.1000  C123        S  \n",
       "4      0            373450   8.0500   NaN        S  "
      ]
     },
     "execution_count": 1,
     "metadata": {},
     "output_type": "execute_result"
    }
   ],
   "source": [
    "import matplotlib.pyplot as plt\n",
    "import numpy as np\n",
    "import pandas as pd\n",
    "import seaborn as sns\n",
    "%matplotlib inline\n",
    "\n",
    "titanic = pd.read_csv('train.csv')\n",
    "titanic.head()"
   ]
  },
  {
   "cell_type": "code",
   "execution_count": 2,
   "id": "46dd1341-eb82-419d-b921-623f5f5b1e00",
   "metadata": {},
   "outputs": [
    {
     "data": {
      "text/html": [
       "<div>\n",
       "<style scoped>\n",
       "    .dataframe tbody tr th:only-of-type {\n",
       "        vertical-align: middle;\n",
       "    }\n",
       "\n",
       "    .dataframe tbody tr th {\n",
       "        vertical-align: top;\n",
       "    }\n",
       "\n",
       "    .dataframe thead th {\n",
       "        text-align: right;\n",
       "    }\n",
       "</style>\n",
       "<table border=\"1\" class=\"dataframe\">\n",
       "  <thead>\n",
       "    <tr style=\"text-align: right;\">\n",
       "      <th></th>\n",
       "      <th>PassengerId</th>\n",
       "      <th>Survived</th>\n",
       "      <th>Pclass</th>\n",
       "      <th>Age</th>\n",
       "      <th>SibSp</th>\n",
       "      <th>Parch</th>\n",
       "      <th>Fare</th>\n",
       "    </tr>\n",
       "  </thead>\n",
       "  <tbody>\n",
       "    <tr>\n",
       "      <th>count</th>\n",
       "      <td>891.000000</td>\n",
       "      <td>891.000000</td>\n",
       "      <td>891.000000</td>\n",
       "      <td>714.000000</td>\n",
       "      <td>891.000000</td>\n",
       "      <td>891.000000</td>\n",
       "      <td>891.000000</td>\n",
       "    </tr>\n",
       "    <tr>\n",
       "      <th>mean</th>\n",
       "      <td>446.000000</td>\n",
       "      <td>0.383838</td>\n",
       "      <td>2.308642</td>\n",
       "      <td>29.699118</td>\n",
       "      <td>0.523008</td>\n",
       "      <td>0.381594</td>\n",
       "      <td>32.204208</td>\n",
       "    </tr>\n",
       "    <tr>\n",
       "      <th>std</th>\n",
       "      <td>257.353842</td>\n",
       "      <td>0.486592</td>\n",
       "      <td>0.836071</td>\n",
       "      <td>14.526497</td>\n",
       "      <td>1.102743</td>\n",
       "      <td>0.806057</td>\n",
       "      <td>49.693429</td>\n",
       "    </tr>\n",
       "    <tr>\n",
       "      <th>min</th>\n",
       "      <td>1.000000</td>\n",
       "      <td>0.000000</td>\n",
       "      <td>1.000000</td>\n",
       "      <td>0.420000</td>\n",
       "      <td>0.000000</td>\n",
       "      <td>0.000000</td>\n",
       "      <td>0.000000</td>\n",
       "    </tr>\n",
       "    <tr>\n",
       "      <th>25%</th>\n",
       "      <td>223.500000</td>\n",
       "      <td>0.000000</td>\n",
       "      <td>2.000000</td>\n",
       "      <td>20.125000</td>\n",
       "      <td>0.000000</td>\n",
       "      <td>0.000000</td>\n",
       "      <td>7.910400</td>\n",
       "    </tr>\n",
       "    <tr>\n",
       "      <th>50%</th>\n",
       "      <td>446.000000</td>\n",
       "      <td>0.000000</td>\n",
       "      <td>3.000000</td>\n",
       "      <td>28.000000</td>\n",
       "      <td>0.000000</td>\n",
       "      <td>0.000000</td>\n",
       "      <td>14.454200</td>\n",
       "    </tr>\n",
       "    <tr>\n",
       "      <th>75%</th>\n",
       "      <td>668.500000</td>\n",
       "      <td>1.000000</td>\n",
       "      <td>3.000000</td>\n",
       "      <td>38.000000</td>\n",
       "      <td>1.000000</td>\n",
       "      <td>0.000000</td>\n",
       "      <td>31.000000</td>\n",
       "    </tr>\n",
       "    <tr>\n",
       "      <th>max</th>\n",
       "      <td>891.000000</td>\n",
       "      <td>1.000000</td>\n",
       "      <td>3.000000</td>\n",
       "      <td>80.000000</td>\n",
       "      <td>8.000000</td>\n",
       "      <td>6.000000</td>\n",
       "      <td>512.329200</td>\n",
       "    </tr>\n",
       "  </tbody>\n",
       "</table>\n",
       "</div>"
      ],
      "text/plain": [
       "       PassengerId    Survived      Pclass         Age       SibSp  \\\n",
       "count   891.000000  891.000000  891.000000  714.000000  891.000000   \n",
       "mean    446.000000    0.383838    2.308642   29.699118    0.523008   \n",
       "std     257.353842    0.486592    0.836071   14.526497    1.102743   \n",
       "min       1.000000    0.000000    1.000000    0.420000    0.000000   \n",
       "25%     223.500000    0.000000    2.000000   20.125000    0.000000   \n",
       "50%     446.000000    0.000000    3.000000   28.000000    0.000000   \n",
       "75%     668.500000    1.000000    3.000000   38.000000    1.000000   \n",
       "max     891.000000    1.000000    3.000000   80.000000    8.000000   \n",
       "\n",
       "            Parch        Fare  \n",
       "count  891.000000  891.000000  \n",
       "mean     0.381594   32.204208  \n",
       "std      0.806057   49.693429  \n",
       "min      0.000000    0.000000  \n",
       "25%      0.000000    7.910400  \n",
       "50%      0.000000   14.454200  \n",
       "75%      0.000000   31.000000  \n",
       "max      6.000000  512.329200  "
      ]
     },
     "execution_count": 2,
     "metadata": {},
     "output_type": "execute_result"
    }
   ],
   "source": [
    "titanic.describe()"
   ]
  },
  {
   "cell_type": "code",
   "execution_count": 3,
   "id": "ce03ff85-9336-4607-8228-93fa4dfaf4e8",
   "metadata": {},
   "outputs": [
    {
     "name": "stdout",
     "output_type": "stream",
     "text": [
      "<class 'pandas.core.frame.DataFrame'>\n",
      "RangeIndex: 891 entries, 0 to 890\n",
      "Data columns (total 12 columns):\n",
      " #   Column       Non-Null Count  Dtype  \n",
      "---  ------       --------------  -----  \n",
      " 0   PassengerId  891 non-null    int64  \n",
      " 1   Survived     891 non-null    int64  \n",
      " 2   Pclass       891 non-null    int64  \n",
      " 3   Name         891 non-null    object \n",
      " 4   Sex          891 non-null    object \n",
      " 5   Age          714 non-null    float64\n",
      " 6   SibSp        891 non-null    int64  \n",
      " 7   Parch        891 non-null    int64  \n",
      " 8   Ticket       891 non-null    object \n",
      " 9   Fare         891 non-null    float64\n",
      " 10  Cabin        204 non-null    object \n",
      " 11  Embarked     889 non-null    object \n",
      "dtypes: float64(2), int64(5), object(5)\n",
      "memory usage: 83.7+ KB\n"
     ]
    }
   ],
   "source": [
    "titanic.info()"
   ]
  },
  {
   "cell_type": "code",
   "execution_count": 4,
   "id": "4708b6c5-0267-4033-9955-baddc4b885a1",
   "metadata": {},
   "outputs": [
    {
     "data": {
      "text/plain": [
       "PassengerId      0\n",
       "Survived         0\n",
       "Pclass           0\n",
       "Name             0\n",
       "Sex              0\n",
       "Age            177\n",
       "SibSp            0\n",
       "Parch            0\n",
       "Ticket           0\n",
       "Fare             0\n",
       "Cabin          687\n",
       "Embarked         2\n",
       "dtype: int64"
      ]
     },
     "execution_count": 4,
     "metadata": {},
     "output_type": "execute_result"
    }
   ],
   "source": [
    "titanic.isnull().sum()"
   ]
  },
  {
   "cell_type": "code",
   "execution_count": 5,
   "id": "f5179099",
   "metadata": {},
   "outputs": [],
   "source": [
    "features = titanic.drop('Survived', axis=1)\n",
    "target = titanic['Survived']"
   ]
  },
  {
   "cell_type": "markdown",
   "id": "8e4fdbf9",
   "metadata": {},
   "source": [
    "## MUTUAL INFORMATION"
   ]
  },
  {
   "cell_type": "code",
   "execution_count": 6,
   "id": "300ab03b",
   "metadata": {},
   "outputs": [
    {
     "name": "stdout",
     "output_type": "stream",
     "text": [
      "Fare           0.117630\n",
      "Pclass         0.065688\n",
      "PassengerId    0.015306\n",
      "Parch          0.014906\n",
      "SibSp          0.005502\n",
      "Name: MI Scores, dtype: float64\n"
     ]
    },
    {
     "data": {
      "image/png": "[encoded data removed]",
      "text/plain": [
       "<Figure size 432x288 with 1 Axes>"
      ]
     },
     "metadata": {
      "needs_background": "light"
     },
     "output_type": "display_data"
    },
    {
     "data": {
      "text/plain": [
       "<Figure size 800x500 with 0 Axes>"
      ]
     },
     "metadata": {},
     "output_type": "display_data"
    }
   ],
   "source": [
    "from sklearn.feature_selection import mutual_info_regression\n",
    "\n",
    "def calculate_MI_scores(X, y):\n",
    "    cols_MI = [col for col in X.columns if (X[col].dtype==\"int\" or X[col].dtype==\"float\") and X[col].isnull().sum()==0]\n",
    "    \n",
    "    Z = X[cols_MI]\n",
    "\n",
    "    mi_scores = mutual_info_regression(Z, y)\n",
    "\n",
    "    MI_scores = pd.Series(mi_scores, name=\"MI Scores\", index=Z.columns)\n",
    "    MI_scores = MI_scores.sort_values(ascending=False)\n",
    "    \n",
    "    print(MI_scores)\n",
    "    \n",
    "    return MI_scores\n",
    "\n",
    "def plot_MI_scores(scores):\n",
    "    scores = scores.sort_values(ascending=True)\n",
    "    width = np.arange(len(scores))\n",
    "    ticks = list(scores.index)\n",
    "    plt.barh(width, scores)\n",
    "    plt.yticks(width, ticks)\n",
    "    plt.title(\"Mutual Information Scores\")\n",
    "    plt.figure(dpi=100, figsize=(8, 5))\n",
    "\n",
    "\n",
    "\n",
    "scores = calculate_MI_scores(features, target)\n",
    "plot_MI_scores(scores)\n",
    "\n"
   ]
  },
  {
   "cell_type": "code",
   "execution_count": 7,
   "id": "1951d7a4",
   "metadata": {},
   "outputs": [
    {
     "name": "stdout",
     "output_type": "stream",
     "text": [
      "Age\n",
      "False    0.406162\n",
      "True     0.293785\n",
      "Name: Survived, dtype: float64\n",
      "Age\n",
      "False    290\n",
      "True      52\n",
      "Name: Survived, dtype: int64\n",
      "Cabin\n",
      "False    0.666667\n",
      "True     0.299854\n",
      "Name: Survived, dtype: float64\n",
      "Cabin\n",
      "False    136\n",
      "True     206\n",
      "Name: Survived, dtype: int64\n"
     ]
    }
   ],
   "source": [
    "#Does null value has an effect, in case of a lot of nulls\n",
    "\n",
    "print(titanic.groupby(titanic['Age'].isnull())['Survived'].mean())\n",
    "print(titanic.groupby(titanic['Age'].isnull())['Survived'].sum())\n",
    "print(titanic.groupby(titanic['Cabin'].isnull())['Survived'].mean())\n",
    "print(titanic.groupby(titanic['Cabin'].isnull())['Survived'].sum())"
   ]
  },
  {
   "cell_type": "markdown",
   "id": "aa79dcc0",
   "metadata": {},
   "source": [
    "# 2) PREPARE DATA FOR TRAINING"
   ]
  },
  {
   "cell_type": "markdown",
   "id": "7e1b8350",
   "metadata": {},
   "source": [
    "## Load again"
   ]
  },
  {
   "cell_type": "code",
   "execution_count": 8,
   "id": "8f9abd7a",
   "metadata": {},
   "outputs": [],
   "source": [
    "features = titanic.drop('Survived', axis=1)\n",
    "target = titanic['Survived']"
   ]
  },
  {
   "cell_type": "markdown",
   "id": "d1e384bc",
   "metadata": {},
   "source": [
    "## Drop features without info"
   ]
  },
  {
   "cell_type": "code",
   "execution_count": 9,
   "id": "595eda60",
   "metadata": {},
   "outputs": [],
   "source": [
    "features.drop(['PassengerId', \"Name\", \"Ticket\"], axis=1, inplace=True)"
   ]
  },
  {
   "cell_type": "markdown",
   "id": "5e51819b",
   "metadata": {},
   "source": [
    "## Add columns and drop"
   ]
  },
  {
   "cell_type": "code",
   "execution_count": 10,
   "id": "8591f9f1",
   "metadata": {},
   "outputs": [],
   "source": [
    "features['Cabin_null'] = np.where(titanic['Cabin'].isnull(), 0, 1)\n",
    "features['Age_null'] = np.where(titanic['Age'].isnull(), 0, 1)\n",
    "features.drop(['Cabin'], axis=1, inplace=True)"
   ]
  },
  {
   "cell_type": "markdown",
   "id": "4f84cf36",
   "metadata": {},
   "source": [
    "## Split"
   ]
  },
  {
   "cell_type": "code",
   "execution_count": 11,
   "id": "d752e084",
   "metadata": {},
   "outputs": [],
   "source": [
    "from sklearn.model_selection import train_test_split\n",
    "X_train, X_valid, y_train, y_valid = train_test_split(features, target, test_size=0.25, random_state=1)"
   ]
  },
  {
   "cell_type": "markdown",
   "id": "d6030a18",
   "metadata": {},
   "source": [
    "## One-Hot Encoding"
   ]
  },
  {
   "cell_type": "code",
   "execution_count": 12,
   "id": "57759709",
   "metadata": {},
   "outputs": [
    {
     "data": {
      "text/html": [
       "<div>\n",
       "<style scoped>\n",
       "    .dataframe tbody tr th:only-of-type {\n",
       "        vertical-align: middle;\n",
       "    }\n",
       "\n",
       "    .dataframe tbody tr th {\n",
       "        vertical-align: top;\n",
       "    }\n",
       "\n",
       "    .dataframe thead th {\n",
       "        text-align: right;\n",
       "    }\n",
       "</style>\n",
       "<table border=\"1\" class=\"dataframe\">\n",
       "  <thead>\n",
       "    <tr style=\"text-align: right;\">\n",
       "      <th></th>\n",
       "      <th>Pclass</th>\n",
       "      <th>Age</th>\n",
       "      <th>SibSp</th>\n",
       "      <th>Parch</th>\n",
       "      <th>Fare</th>\n",
       "      <th>Cabin_null</th>\n",
       "      <th>Age_null</th>\n",
       "      <th>Embarked_C</th>\n",
       "      <th>Embarked_Q</th>\n",
       "      <th>Embarked_S</th>\n",
       "      <th>Embarked_nan</th>\n",
       "      <th>Sex_female</th>\n",
       "      <th>Sex_male</th>\n",
       "    </tr>\n",
       "  </thead>\n",
       "  <tbody>\n",
       "    <tr>\n",
       "      <th>35</th>\n",
       "      <td>1</td>\n",
       "      <td>42.0</td>\n",
       "      <td>1</td>\n",
       "      <td>0</td>\n",
       "      <td>52.0000</td>\n",
       "      <td>0</td>\n",
       "      <td>1</td>\n",
       "      <td>0.0</td>\n",
       "      <td>0.0</td>\n",
       "      <td>1.0</td>\n",
       "      <td>0.0</td>\n",
       "      <td>0.0</td>\n",
       "      <td>1.0</td>\n",
       "    </tr>\n",
       "    <tr>\n",
       "      <th>46</th>\n",
       "      <td>3</td>\n",
       "      <td>NaN</td>\n",
       "      <td>1</td>\n",
       "      <td>0</td>\n",
       "      <td>15.5000</td>\n",
       "      <td>0</td>\n",
       "      <td>0</td>\n",
       "      <td>0.0</td>\n",
       "      <td>1.0</td>\n",
       "      <td>0.0</td>\n",
       "      <td>0.0</td>\n",
       "      <td>0.0</td>\n",
       "      <td>1.0</td>\n",
       "    </tr>\n",
       "    <tr>\n",
       "      <th>453</th>\n",
       "      <td>1</td>\n",
       "      <td>49.0</td>\n",
       "      <td>1</td>\n",
       "      <td>0</td>\n",
       "      <td>89.1042</td>\n",
       "      <td>1</td>\n",
       "      <td>1</td>\n",
       "      <td>1.0</td>\n",
       "      <td>0.0</td>\n",
       "      <td>0.0</td>\n",
       "      <td>0.0</td>\n",
       "      <td>0.0</td>\n",
       "      <td>1.0</td>\n",
       "    </tr>\n",
       "    <tr>\n",
       "      <th>291</th>\n",
       "      <td>1</td>\n",
       "      <td>19.0</td>\n",
       "      <td>1</td>\n",
       "      <td>0</td>\n",
       "      <td>91.0792</td>\n",
       "      <td>1</td>\n",
       "      <td>1</td>\n",
       "      <td>1.0</td>\n",
       "      <td>0.0</td>\n",
       "      <td>0.0</td>\n",
       "      <td>0.0</td>\n",
       "      <td>1.0</td>\n",
       "      <td>0.0</td>\n",
       "    </tr>\n",
       "    <tr>\n",
       "      <th>748</th>\n",
       "      <td>1</td>\n",
       "      <td>19.0</td>\n",
       "      <td>1</td>\n",
       "      <td>0</td>\n",
       "      <td>53.1000</td>\n",
       "      <td>1</td>\n",
       "      <td>1</td>\n",
       "      <td>0.0</td>\n",
       "      <td>0.0</td>\n",
       "      <td>1.0</td>\n",
       "      <td>0.0</td>\n",
       "      <td>0.0</td>\n",
       "      <td>1.0</td>\n",
       "    </tr>\n",
       "  </tbody>\n",
       "</table>\n",
       "</div>"
      ],
      "text/plain": [
       "     Pclass   Age  SibSp  Parch     Fare  Cabin_null  Age_null  Embarked_C  \\\n",
       "35        1  42.0      1      0  52.0000           0         1         0.0   \n",
       "46        3   NaN      1      0  15.5000           0         0         0.0   \n",
       "453       1  49.0      1      0  89.1042           1         1         1.0   \n",
       "291       1  19.0      1      0  91.0792           1         1         1.0   \n",
       "748       1  19.0      1      0  53.1000           1         1         0.0   \n",
       "\n",
       "     Embarked_Q  Embarked_S  Embarked_nan  Sex_female  Sex_male  \n",
       "35          0.0         1.0           0.0         0.0       1.0  \n",
       "46          1.0         0.0           0.0         0.0       1.0  \n",
       "453         0.0         0.0           0.0         0.0       1.0  \n",
       "291         0.0         0.0           0.0         1.0       0.0  \n",
       "748         0.0         1.0           0.0         0.0       1.0  "
      ]
     },
     "execution_count": 12,
     "metadata": {},
     "output_type": "execute_result"
    }
   ],
   "source": [
    "from sklearn.preprocessing import OneHotEncoder\n",
    "\n",
    "OH_encoder = OneHotEncoder(handle_unknown=\"ignore\", sparse=False)\n",
    "\n",
    "columns_OHE = [\"Embarked\", \"Sex\"]\n",
    "\n",
    "OH_cols_train = pd.DataFrame(OH_encoder.fit_transform(X_train[columns_OHE]))\n",
    "OH_cols_valid = pd.DataFrame(OH_encoder.transform(X_valid[columns_OHE]))\n",
    "\n",
    "OH_cols_train.columns = OH_encoder.get_feature_names(columns_OHE)\n",
    "OH_cols_valid.columns = OH_encoder.get_feature_names(columns_OHE)\n",
    "\n",
    "OH_cols_train.index = X_train.index\n",
    "OH_cols_valid.index = X_valid.index\n",
    "\n",
    "num_X_train = X_train.drop(columns_OHE, axis=1)\n",
    "num_X_valid = X_valid.drop(columns_OHE, axis=1)\n",
    "\n",
    "OH_X_train = pd.concat([num_X_train, OH_cols_train], axis=1)\n",
    "OH_X_valid = pd.concat([num_X_valid, OH_cols_valid], axis=1)\n",
    "\n",
    "OH_X_train.columns = OH_X_train.columns.astype(str)\n",
    "OH_X_valid.columns = OH_X_valid.columns.astype(str)\n",
    "\n",
    "\n",
    "\n",
    "OH_X_train.head()"
   ]
  },
  {
   "cell_type": "markdown",
   "id": "58c8d19e",
   "metadata": {},
   "source": [
    "## Imputer"
   ]
  },
  {
   "cell_type": "code",
   "execution_count": 13,
   "id": "a3087ae8",
   "metadata": {},
   "outputs": [
    {
     "name": "stdout",
     "output_type": "stream",
     "text": [
      "     Pclass        Age  SibSp  Parch     Fare  Cabin_null  Age_null  \\\n",
      "35        1  42.000000      1      0  52.0000           0         1   \n",
      "46        3  30.073682      1      0  15.5000           0         0   \n",
      "453       1  49.000000      1      0  89.1042           1         1   \n",
      "291       1  19.000000      1      0  91.0792           1         1   \n",
      "748       1  19.000000      1      0  53.1000           1         1   \n",
      "\n",
      "     Embarked_C  Embarked_Q  Embarked_S  Embarked_nan  Sex_female  Sex_male  \n",
      "35          0.0         0.0         1.0           0.0         0.0       1.0  \n",
      "46          0.0         1.0         0.0           0.0         0.0       1.0  \n",
      "453         1.0         0.0         0.0           0.0         0.0       1.0  \n",
      "291         1.0         0.0         0.0           0.0         1.0       0.0  \n",
      "748         0.0         0.0         1.0           0.0         0.0       1.0  \n"
     ]
    }
   ],
   "source": [
    "OH_X_train['Age'].fillna(OH_X_train['Age'].mean(), inplace=True)\n",
    "OH_X_valid['Age'].fillna(OH_X_valid['Age'].mean(), inplace=True)\n",
    "\n",
    "print(OH_X_train.head())"
   ]
  },
  {
   "cell_type": "markdown",
   "id": "de9f9ad2",
   "metadata": {},
   "source": [
    "## MI again"
   ]
  },
  {
   "cell_type": "code",
   "execution_count": 14,
   "id": "3a830e77",
   "metadata": {},
   "outputs": [
    {
     "name": "stdout",
     "output_type": "stream",
     "text": [
      "Sex_female      0.157364\n",
      "Fare            0.150869\n",
      "Sex_male        0.143263\n",
      "Pclass          0.129368\n",
      "Age             0.067130\n",
      "Embarked_Q      0.064205\n",
      "Cabin_null      0.047838\n",
      "Parch           0.026491\n",
      "Age_null        0.017169\n",
      "SibSp           0.013326\n",
      "Embarked_nan    0.007064\n",
      "Embarked_S      0.006774\n",
      "Embarked_C      0.000000\n",
      "Name: MI Scores, dtype: float64\n"
     ]
    },
    {
     "data": {
      "image/png": "[encoded data removed]",
      "text/plain": [
       "<Figure size 432x288 with 1 Axes>"
      ]
     },
     "metadata": {
      "needs_background": "light"
     },
     "output_type": "display_data"
    },
    {
     "data": {
      "text/plain": [
       "<Figure size 800x500 with 0 Axes>"
      ]
     },
     "metadata": {},
     "output_type": "display_data"
    }
   ],
   "source": [
    "scores = calculate_MI_scores(OH_X_train, y_train)\n",
    "plot_MI_scores(scores)\n"
   ]
  },
  {
   "cell_type": "markdown",
   "id": "fb7cff2a-2ba4-4984-8def-1d7dddacd179",
   "metadata": {
    "jp-MarkdownHeadingCollapsed": true,
    "tags": []
   },
   "source": [
    "# TRAINING AND VALIDATION"
   ]
  },
  {
   "cell_type": "code",
   "execution_count": 15,
   "id": "aa5f1adc",
   "metadata": {},
   "outputs": [],
   "source": [
    "from sklearn.metrics import mean_absolute_error\n",
    "from sklearn.metrics import confusion_matrix\n",
    "import joblib"
   ]
  },
  {
   "cell_type": "markdown",
   "id": "be953b52-ac0f-425e-a5fe-86dae27a794b",
   "metadata": {
    "jp-MarkdownHeadingCollapsed": true,
    "tags": []
   },
   "source": [
    "## Random Forest"
   ]
  },
  {
   "cell_type": "code",
   "execution_count": 16,
   "id": "3c6688a9-f437-41aa-a57e-01df70f646bf",
   "metadata": {},
   "outputs": [
    {
     "name": "stdout",
     "output_type": "stream",
     "text": [
      "Best option for RF:  {'n_estimators': 5, 'max_depth': 8}\n",
      "Mean Absolute Error 0.19282511210762332\n",
      "Recall 0.631578947368421\n",
      "Accuracy 0.8071748878923767\n"
     ]
    },
    {
     "data": {
      "text/plain": [
       "['RF_model.pkl']"
      ]
     },
     "execution_count": 16,
     "metadata": {},
     "output_type": "execute_result"
    }
   ],
   "source": [
    "from sklearn.ensemble import RandomForestClassifier\n",
    "\n",
    "list_n_estimators = [5, 10, 15, 20, 25, 30, 40, 50, 100]\n",
    "list_max_depth = [2, 4, 6, 8, 10, 16, 32, None]\n",
    "\n",
    "lower_error = 10\n",
    "best_param = []\n",
    "best_model = []\n",
    "\n",
    "for n_estimators in list_n_estimators:\n",
    "    for max_depth in list_max_depth:\n",
    "        MODEL_PARAMS = {\n",
    "            \"n_estimators\": n_estimators,\n",
    "            \"max_depth\": max_depth\n",
    "        }\n",
    "        \n",
    "        rf = RandomForestClassifier(**MODEL_PARAMS)\n",
    "\n",
    "        rf.fit(OH_X_train, y_train.values.ravel())\n",
    "\n",
    "        preds = rf.predict(OH_X_valid)\n",
    "        \n",
    "        mean_error = mean_absolute_error(y_valid, preds)\n",
    "        #print(n_estimators, max_depth, mean_error)\n",
    "\n",
    "        cm = confusion_matrix(y_valid, preds)\n",
    "        tn, fp, fn, tp = cm.ravel()\n",
    "        recall = tp / (tp + fn)\n",
    "        accuracy = (tp + tn) / (tp + fp + fn + tn) \n",
    "\n",
    "        #print(\"Recall: \", recall)\n",
    "        #print(\"Accuracy: \", accuracy)\n",
    "        \n",
    "        if(mean_error < lower_error):\n",
    "            lower_error = mean_error\n",
    "            best_param = MODEL_PARAMS\n",
    "            best_model = rf\n",
    "            best_recall = recall\n",
    "            best_acc = accuracy\n",
    "            \n",
    "\n",
    "print(\"Best option for RF: \", best_param)\n",
    "print(\"Mean Absolute Error\", lower_error)\n",
    "print(\"Recall\", best_recall)\n",
    "print(\"Accuracy\", best_acc)\n",
    "\n",
    "joblib.dump(best_model, 'RF_model.pkl')\n"
   ]
  },
  {
   "cell_type": "markdown",
   "id": "88e463b6-1a0c-47ee-afc8-4e9d9f19f683",
   "metadata": {
    "tags": []
   },
   "source": [
    "## XGBoost"
   ]
  },
  {
   "cell_type": "code",
   "execution_count": 17,
   "id": "2ba080fa-45bf-4b7b-8d45-94df413891fc",
   "metadata": {},
   "outputs": [
    {
     "name": "stdout",
     "output_type": "stream",
     "text": [
      "Best option for XGBoost:  {'n_estimators': 50, 'learning_rate': 0.04, 'n_jobs': 8, 'early_stopping_rounds': 10}\n",
      "Mean Absolute Error 0.2062780269058296\n",
      "Recall 0.6\n",
      "Accuracy 0.7937219730941704\n"
     ]
    },
    {
     "data": {
      "text/plain": [
       "['XGB_model.pkl']"
      ]
     },
     "execution_count": 17,
     "metadata": {},
     "output_type": "execute_result"
    }
   ],
   "source": [
    "from xgboost import XGBClassifier\n",
    "\n",
    "list_n_estimators = [10, 30, 50, 100, 250, 500, 1000, 5000]\n",
    "list_learning_rate = [0.0001, 0.001, 0.01, 0.02, 0.03, 0.04, 0.05, 0.06, 0.07, 0.1]\n",
    "n_jobs = 8\n",
    "early_stopping_rounds = 10\n",
    "\n",
    "lower_error = 10\n",
    "best_param = []\n",
    "best_model = []\n",
    "\n",
    "for n_estimators in list_n_estimators:\n",
    "    for learning_rate in list_learning_rate:\n",
    "        MODEL_PARAMS = {\n",
    "            \"n_estimators\": n_estimators,\n",
    "            \"learning_rate\": learning_rate,\n",
    "            \"n_jobs\": n_jobs,\n",
    "            \"early_stopping_rounds\": early_stopping_rounds\n",
    "        }\n",
    "        \n",
    "        xgb_model = XGBClassifier(**MODEL_PARAMS)\n",
    "\n",
    "        xgb_model.fit(OH_X_train, y_train, eval_set=[(OH_X_valid, y_valid)], verbose=False)\n",
    "        \n",
    "        preds = xgb_model.predict(OH_X_valid)\n",
    "        \n",
    "        mean_error = mean_absolute_error(y_valid, preds)\n",
    "        #print(MODEL_PARAMS)\n",
    "\n",
    "        cm = confusion_matrix(y_valid, preds)\n",
    "        tn, fp, fn, tp = cm.ravel()\n",
    "        recall = tp / (tp + fn)\n",
    "        accuracy = (tp + tn) / (tp + fp + fn + tn) \n",
    "        #print(\"Mean error: \",mean_error)\n",
    "        #print(\"Recall: \", recall)\n",
    "        #print(\"Accuracy: \", accuracy)\n",
    "        \n",
    "        if(mean_error < lower_error):\n",
    "            lower_error = mean_error\n",
    "            best_param = MODEL_PARAMS\n",
    "            best_model = rf\n",
    "            best_recall = recall\n",
    "            best_acc = accuracy\n",
    "        \n",
    "    \n",
    "print(\"Best option for XGBoost: \", best_param)\n",
    "print(\"Mean Absolute Error\", lower_error)\n",
    "print(\"Recall\", best_recall)\n",
    "print(\"Accuracy\", best_acc)\n",
    "\n",
    "joblib.dump(best_model, 'XGB_model.pkl')        "
   ]
  },
  {
   "cell_type": "markdown",
   "id": "0e6e292f-0a2b-4e51-a3c3-dc77dc731628",
   "metadata": {
    "jp-MarkdownHeadingCollapsed": true,
    "tags": []
   },
   "source": [
    "### Neural Networks"
   ]
  },
  {
   "cell_type": "code",
   "execution_count": 18,
   "id": "55b08386-03ed-41e1-8cc5-8b61f94648e4",
   "metadata": {},
   "outputs": [
    {
     "name": "stderr",
     "output_type": "stream",
     "text": [
      "2024-03-18 17:36:18.295882: I tensorflow/core/util/port.cc:113] oneDNN custom operations are on. You may see slightly different numerical results due to floating-point round-off errors from different computation orders. To turn them off, set the environment variable `TF_ENABLE_ONEDNN_OPTS=0`.\n",
      "2024-03-18 17:36:18.296971: I external/local_tsl/tsl/cuda/cudart_stub.cc:32] Could not find cuda drivers on your machine, GPU will not be used.\n",
      "2024-03-18 17:36:18.340015: I external/local_tsl/tsl/cuda/cudart_stub.cc:32] Could not find cuda drivers on your machine, GPU will not be used.\n",
      "2024-03-18 17:36:18.469853: I tensorflow/core/platform/cpu_feature_guard.cc:210] This TensorFlow binary is optimized to use available CPU instructions in performance-critical operations.\n",
      "To enable the following instructions: AVX2 AVX512F AVX512_VNNI FMA, in other operations, rebuild TensorFlow with the appropriate compiler flags.\n",
      "2024-03-18 17:36:19.284592: W tensorflow/compiler/tf2tensorrt/utils/py_utils.cc:38] TF-TRT Warning: Could not find TensorRT\n"
     ]
    }
   ],
   "source": [
    "from tensorflow import keras\n",
    "from tensorflow.keras import layers, callbacks\n",
    "from tensorflow.keras.models import load_model"
   ]
  },
  {
   "cell_type": "code",
   "execution_count": 19,
   "id": "047215f8-ac2f-4331-83cd-9c55521f25c9",
   "metadata": {
    "scrolled": true
   },
   "outputs": [
    {
     "name": "stderr",
     "output_type": "stream",
     "text": [
      "/home/lluis/anaconda3/lib/python3.9/site-packages/keras/src/layers/core/dense.py:85: UserWarning: Do not pass an `input_shape`/`input_dim` argument to a layer. When using Sequential models, prefer using an `Input(shape)` object as the first layer in the model instead.\n",
      "  super().__init__(activity_regularizer=activity_regularizer, **kwargs)\n"
     ]
    },
    {
     "name": "stdout",
     "output_type": "stream",
     "text": [
      "10 64 128 0.7892376780509949\n",
      "10 64 256 0.7847533822059631\n",
      "10 64 512 0.7847533822059631\n",
      "10 64 1024 0.7892376780509949\n",
      "10 64 2048 0.695067286491394\n",
      "10 128 128 0.7892376780509949\n",
      "10 128 256 0.713004469871521\n",
      "10 128 512 0.7982062697410583\n",
      "10 128 1024 0.7937219738960266\n",
      "10 128 2048 0.7802690863609314\n",
      "10 256 128 0.7533632516860962\n",
      "10 256 256 0.6412556171417236\n",
      "10 256 512 0.7847533822059631\n",
      "10 256 1024 0.7668161392211914\n",
      "10 256 2048 0.7802690863609314\n",
      "10 512 128 0.6233183741569519\n",
      "10 512 256 0.6771300435066223\n",
      "10 512 512 0.6322869658470154\n",
      "10 512 1024 0.6591928005218506\n",
      "10 512 2048 0.5964125394821167\n",
      "16 64 128 0.7757847309112549\n",
      "16 64 256 0.7892376780509949\n",
      "16 64 512 0.7802690863609314\n",
      "16 64 1024 0.7892376780509949\n",
      "16 64 2048 0.8116592168807983\n",
      "16 128 128 0.7847533822059631\n",
      "16 128 256 0.7713004350662231\n",
      "16 128 512 0.7802690863609314\n",
      "16 128 1024 0.7892376780509949\n",
      "16 128 2048 0.7668161392211914\n",
      "16 256 128 0.7040358781814575\n",
      "16 256 256 0.8071748614311218\n",
      "16 256 512 0.7488788962364197\n",
      "16 256 1024 0.8071748614311218\n",
      "16 256 2048 0.7757847309112549\n",
      "16 512 128 0.6502242088317871\n",
      "16 512 256 0.7757847309112549\n",
      "16 512 512 0.6188340783119202\n",
      "16 512 1024 0.6322869658470154\n",
      "16 512 2048 0.681614339351654\n",
      "32 64 128 0.7892376780509949\n",
      "32 64 256 0.7847533822059631\n",
      "32 64 512 0.7892376780509949\n",
      "32 64 1024 0.7713004350662231\n",
      "32 64 2048 0.7802690863609314\n",
      "32 128 128 0.8026905655860901\n",
      "32 128 256 0.7982062697410583\n",
      "32 128 512 0.7668161392211914\n",
      "32 128 1024 0.7937219738960266\n",
      "32 128 2048 0.7757847309112549\n",
      "32 256 128 0.7847533822059631\n",
      "32 256 256 0.7982062697410583\n",
      "32 256 512 0.7757847309112549\n",
      "32 256 1024 0.7937219738960266\n",
      "32 256 2048 0.7533632516860962\n",
      "32 512 128 0.7713004350662231\n",
      "32 512 256 0.7802690863609314\n",
      "32 512 512 0.7892376780509949\n",
      "32 512 1024 0.7443946003913879\n",
      "32 512 2048 0.7802690863609314\n",
      "64 64 128 0.7847533822059631\n",
      "64 64 256 0.7892376780509949\n",
      "64 64 512 0.7937219738960266\n",
      "64 64 1024 0.7937219738960266\n",
      "64 64 2048 0.7937219738960266\n",
      "64 128 128 0.7802690863609314\n",
      "64 128 256 0.7757847309112549\n",
      "64 128 512 0.7847533822059631\n",
      "64 128 1024 0.7802690863609314\n",
      "64 128 2048 0.7668161392211914\n",
      "64 256 128 0.7892376780509949\n",
      "64 256 256 0.7802690863609314\n",
      "64 256 512 0.7847533822059631\n",
      "64 256 1024 0.7847533822059631\n",
      "64 256 2048 0.7892376780509949\n",
      "64 512 128 0.7802690863609314\n",
      "64 512 256 0.7802690863609314\n",
      "64 512 512 0.7757847309112549\n",
      "64 512 1024 0.7937219738960266\n",
      "64 512 2048 0.7982062697410583\n",
      "128 64 128 0.7892376780509949\n",
      "128 64 256 0.7757847309112549\n",
      "128 64 512 0.7892376780509949\n",
      "128 64 1024 0.7892376780509949\n",
      "128 64 2048 0.7892376780509949\n",
      "128 128 128 0.7982062697410583\n",
      "128 128 256 0.7892376780509949\n",
      "128 128 512 0.7713004350662231\n",
      "128 128 1024 0.7757847309112549\n",
      "128 128 2048 0.7847533822059631\n",
      "128 256 128 0.7757847309112549\n",
      "128 256 256 0.7937219738960266\n",
      "128 256 512 0.7847533822059631\n",
      "128 256 1024 0.7757847309112549\n",
      "128 256 2048 0.7802690863609314\n",
      "128 512 128 0.7757847309112549\n",
      "128 512 256 0.7802690863609314\n",
      "128 512 512 0.7892376780509949\n",
      "128 512 1024 0.7847533822059631\n",
      "128 512 2048 0.7802690863609314\n",
      "256 64 128 0.7802690863609314\n",
      "256 64 256 0.7937219738960266\n",
      "256 64 512 0.7937219738960266\n",
      "256 64 1024 0.7847533822059631\n",
      "256 64 2048 0.7847533822059631\n",
      "256 128 128 0.7982062697410583\n",
      "256 128 256 0.7937219738960266\n",
      "256 128 512 0.7802690863609314\n",
      "256 128 1024 0.7847533822059631\n",
      "256 128 2048 0.7937219738960266\n",
      "256 256 128 0.7802690863609314\n",
      "256 256 256 0.7802690863609314\n",
      "256 256 512 0.7802690863609314\n",
      "256 256 1024 0.7937219738960266\n",
      "256 256 2048 0.7847533822059631\n",
      "256 512 128 0.7847533822059631\n",
      "256 512 256 0.7892376780509949\n",
      "256 512 512 0.7713004350662231\n",
      "256 512 1024 0.7847533822059631\n",
      "256 512 2048 0.7847533822059631\n",
      "Number neurons:  16\n",
      "Number batch:  64\n",
      "Number epoch:  2048\n",
      "Best Validation Loss:  0.4706074297428131\n",
      "Best Validation Accuracy:  0.8116592168807983\n",
      "\u001b[1m7/7\u001b[0m \u001b[32m━━━━━━━━━━━━━━━━━━━━\u001b[0m\u001b[37m\u001b[0m \u001b[1m0s\u001b[0m 5ms/step \n",
      "Mean error:  0.21973094170403587\n"
     ]
    }
   ],
   "source": [
    "number_features = OH_X_train.shape[1]\n",
    "\n",
    "list_number_neurons = [10, 16, 32, 64, 128, 256]\n",
    "list_batch_size = [64, 128, 256, 512]\n",
    "list_epochs = [128, 256, 512, 1024, 2048]\n",
    "#list_number_neurons = [10, 16]\n",
    "#list_batch_size = [128]\n",
    "#list_epochs = [128]\n",
    "patience = 10\n",
    "min_delta = 0.001\n",
    "\n",
    "local_max_accuracy = 0\n",
    "for number_neurons in list_number_neurons:\n",
    "    for batch_size in list_batch_size:\n",
    "        for epochs in list_epochs:\n",
    "            \n",
    "            model = keras.Sequential([\n",
    "                layers.Dense(number_neurons, activation=\"relu\", input_shape=[number_features]),\n",
    "                layers.Dense(number_neurons, activation=\"relu\"),\n",
    "                layers.Dense(number_neurons, activation=\"relu\"),\n",
    "                layers.Dense(number_neurons, activation=\"relu\"),\n",
    "                layers.Dense(1, activation=\"sigmoid\"),\n",
    "                ])\n",
    "\n",
    "\n",
    "            model.compile(optimizer=\"adam\",loss=\"binary_crossentropy\",metrics=[\"binary_accuracy\"],)\n",
    "\n",
    "            early_stopping = keras.callbacks.EarlyStopping(patience=patience, min_delta=min_delta,restore_best_weights=True,)\n",
    "\n",
    "\n",
    "            history = model.fit(OH_X_train, y_train, validation_data=(OH_X_valid, y_valid),\n",
    "                                batch_size=batch_size, epochs=epochs, callbacks=[early_stopping],verbose=0,)\n",
    "            \n",
    "            history_df = pd.DataFrame(history.history)\n",
    "            achieved_acc = history_df[\"val_binary_accuracy\"].max()\n",
    "            print(number_neurons, batch_size, epochs, achieved_acc)\n",
    "            #print(achieved_acc)\n",
    "            if( achieved_acc > local_max_accuracy):\n",
    "                best_neurons = number_neurons\n",
    "                best_batch = batch_size\n",
    "                best_epoch = epochs\n",
    "                local_max_accuracy = achieved_acc\n",
    "                best_model = model\n",
    "                best_history = history\n",
    "                \n",
    "                \n",
    "                \n",
    "history_df = pd.DataFrame(best_history.history)\n",
    "\n",
    "#history_df.loc[5:, [\"loss\", \"val_loss\"]].plot()\n",
    "#history_df.loc[5:, [\"binary_accuracy\", \"val_binary_accuracy\"]].plot()\n",
    "\n",
    "print(\"Number neurons: \", best_neurons)\n",
    "print(\"Number batch: \", best_batch)\n",
    "print(\"Number epoch: \", best_epoch)\n",
    "print(\"Best Validation Loss: \", history_df[\"val_loss\"].min())\n",
    "print(\"Best Validation Accuracy: \", history_df[\"val_binary_accuracy\"].max())\n",
    "\n",
    "\n",
    "preds = (best_model.predict(OH_X_valid) > 0.5).astype(int)\n",
    "mean_error = mean_absolute_error(y_valid, preds)\n",
    "print(\"Mean error: \", mean_error)\n",
    "\n"
   ]
  },
  {
   "cell_type": "code",
   "execution_count": 20,
   "id": "b4745099-469a-4b5b-ac85-8b8e3d6d5c41",
   "metadata": {},
   "outputs": [],
   "source": [
    "best_model.save(\"NN.keras\")"
   ]
  },
  {
   "cell_type": "markdown",
   "id": "041c8f0c-6ceb-4e6f-a165-5e4bdb4935ba",
   "metadata": {
    "jp-MarkdownHeadingCollapsed": true,
    "tags": []
   },
   "source": [
    "# TEST"
   ]
  },
  {
   "cell_type": "code",
   "execution_count": 21,
   "id": "3c7072cd-1f49-4bab-ae97-063e7db7a68e",
   "metadata": {
    "scrolled": true
   },
   "outputs": [
    {
     "data": {
      "text/html": [
       "<div>\n",
       "<style scoped>\n",
       "    .dataframe tbody tr th:only-of-type {\n",
       "        vertical-align: middle;\n",
       "    }\n",
       "\n",
       "    .dataframe tbody tr th {\n",
       "        vertical-align: top;\n",
       "    }\n",
       "\n",
       "    .dataframe thead th {\n",
       "        text-align: right;\n",
       "    }\n",
       "</style>\n",
       "<table border=\"1\" class=\"dataframe\">\n",
       "  <thead>\n",
       "    <tr style=\"text-align: right;\">\n",
       "      <th></th>\n",
       "      <th>PassengerId</th>\n",
       "      <th>Pclass</th>\n",
       "      <th>Name</th>\n",
       "      <th>Sex</th>\n",
       "      <th>Age</th>\n",
       "      <th>SibSp</th>\n",
       "      <th>Parch</th>\n",
       "      <th>Ticket</th>\n",
       "      <th>Fare</th>\n",
       "      <th>Cabin</th>\n",
       "      <th>Embarked</th>\n",
       "    </tr>\n",
       "  </thead>\n",
       "  <tbody>\n",
       "    <tr>\n",
       "      <th>0</th>\n",
       "      <td>892</td>\n",
       "      <td>3</td>\n",
       "      <td>Kelly, Mr. James</td>\n",
       "      <td>male</td>\n",
       "      <td>34.5</td>\n",
       "      <td>0</td>\n",
       "      <td>0</td>\n",
       "      <td>330911</td>\n",
       "      <td>7.8292</td>\n",
       "      <td>NaN</td>\n",
       "      <td>Q</td>\n",
       "    </tr>\n",
       "    <tr>\n",
       "      <th>1</th>\n",
       "      <td>893</td>\n",
       "      <td>3</td>\n",
       "      <td>Wilkes, Mrs. James (Ellen Needs)</td>\n",
       "      <td>female</td>\n",
       "      <td>47.0</td>\n",
       "      <td>1</td>\n",
       "      <td>0</td>\n",
       "      <td>363272</td>\n",
       "      <td>7.0000</td>\n",
       "      <td>NaN</td>\n",
       "      <td>S</td>\n",
       "    </tr>\n",
       "    <tr>\n",
       "      <th>2</th>\n",
       "      <td>894</td>\n",
       "      <td>2</td>\n",
       "      <td>Myles, Mr. Thomas Francis</td>\n",
       "      <td>male</td>\n",
       "      <td>62.0</td>\n",
       "      <td>0</td>\n",
       "      <td>0</td>\n",
       "      <td>240276</td>\n",
       "      <td>9.6875</td>\n",
       "      <td>NaN</td>\n",
       "      <td>Q</td>\n",
       "    </tr>\n",
       "    <tr>\n",
       "      <th>3</th>\n",
       "      <td>895</td>\n",
       "      <td>3</td>\n",
       "      <td>Wirz, Mr. Albert</td>\n",
       "      <td>male</td>\n",
       "      <td>27.0</td>\n",
       "      <td>0</td>\n",
       "      <td>0</td>\n",
       "      <td>315154</td>\n",
       "      <td>8.6625</td>\n",
       "      <td>NaN</td>\n",
       "      <td>S</td>\n",
       "    </tr>\n",
       "    <tr>\n",
       "      <th>4</th>\n",
       "      <td>896</td>\n",
       "      <td>3</td>\n",
       "      <td>Hirvonen, Mrs. Alexander (Helga E Lindqvist)</td>\n",
       "      <td>female</td>\n",
       "      <td>22.0</td>\n",
       "      <td>1</td>\n",
       "      <td>1</td>\n",
       "      <td>3101298</td>\n",
       "      <td>12.2875</td>\n",
       "      <td>NaN</td>\n",
       "      <td>S</td>\n",
       "    </tr>\n",
       "  </tbody>\n",
       "</table>\n",
       "</div>"
      ],
      "text/plain": [
       "   PassengerId  Pclass                                          Name     Sex  \\\n",
       "0          892       3                              Kelly, Mr. James    male   \n",
       "1          893       3              Wilkes, Mrs. James (Ellen Needs)  female   \n",
       "2          894       2                     Myles, Mr. Thomas Francis    male   \n",
       "3          895       3                              Wirz, Mr. Albert    male   \n",
       "4          896       3  Hirvonen, Mrs. Alexander (Helga E Lindqvist)  female   \n",
       "\n",
       "    Age  SibSp  Parch   Ticket     Fare Cabin Embarked  \n",
       "0  34.5      0      0   330911   7.8292   NaN        Q  \n",
       "1  47.0      1      0   363272   7.0000   NaN        S  \n",
       "2  62.0      0      0   240276   9.6875   NaN        Q  \n",
       "3  27.0      0      0   315154   8.6625   NaN        S  \n",
       "4  22.0      1      1  3101298  12.2875   NaN        S  "
      ]
     },
     "execution_count": 21,
     "metadata": {},
     "output_type": "execute_result"
    }
   ],
   "source": [
    "titanic_test = pd.read_csv('test.csv')\n",
    "titanic_test.head()"
   ]
  },
  {
   "cell_type": "markdown",
   "id": "34dec41c-2ed6-4e4b-84f9-24f649e88d95",
   "metadata": {
    "jp-MarkdownHeadingCollapsed": true,
    "tags": []
   },
   "source": [
    "## Cleaning data in the same way as before"
   ]
  },
  {
   "cell_type": "code",
   "execution_count": 22,
   "id": "8f4e18e7-ca59-4cbe-8a0f-3ac080cead4d",
   "metadata": {},
   "outputs": [
    {
     "name": "stdout",
     "output_type": "stream",
     "text": [
      "   Pclass   Age  SibSp  Parch     Fare  Cabin_null  Age_null  Embarked_C  \\\n",
      "0       3  34.5      0      0   7.8292           0         1         0.0   \n",
      "1       3  47.0      1      0   7.0000           0         1         0.0   \n",
      "2       2  62.0      0      0   9.6875           0         1         0.0   \n",
      "3       3  27.0      0      0   8.6625           0         1         0.0   \n",
      "4       3  22.0      1      1  12.2875           0         1         0.0   \n",
      "\n",
      "   Embarked_Q  Embarked_S  Embarked_nan  Sex_female  Sex_male  \n",
      "0         1.0         0.0           0.0         0.0       1.0  \n",
      "1         0.0         1.0           0.0         1.0       0.0  \n",
      "2         1.0         0.0           0.0         0.0       1.0  \n",
      "3         0.0         1.0           0.0         0.0       1.0  \n",
      "4         0.0         1.0           0.0         1.0       0.0  \n"
     ]
    },
    {
     "data": {
      "text/plain": [
       "Pclass          0\n",
       "Age             0\n",
       "SibSp           0\n",
       "Parch           0\n",
       "Fare            0\n",
       "Cabin_null      0\n",
       "Age_null        0\n",
       "Embarked_C      0\n",
       "Embarked_Q      0\n",
       "Embarked_S      0\n",
       "Embarked_nan    0\n",
       "Sex_female      0\n",
       "Sex_male        0\n",
       "dtype: int64"
      ]
     },
     "execution_count": 22,
     "metadata": {},
     "output_type": "execute_result"
    }
   ],
   "source": [
    "titanic_test_predict = pd.read_csv('test.csv')\n",
    "\n",
    "titanic_test_predict.drop(['PassengerId', \"Name\", \"Ticket\"], axis=1, inplace=True)\n",
    "\n",
    "\n",
    "titanic_test_predict['Cabin_null'] = np.where(titanic_test_predict['Cabin'].isnull(), 0, 1)\n",
    "titanic_test_predict['Age_null'] = np.where(titanic_test_predict['Age'].isnull(), 0, 1)\n",
    "titanic_test_predict.drop(['Cabin'], axis=1, inplace=True)\n",
    "\n",
    "titanic_test_predict['Age'].fillna(OH_X_train['Age'].mean(), inplace=True)\n",
    "titanic_test_predict['Fare'].fillna(OH_X_train['Fare'].mean(), inplace=True)\n",
    "\n",
    "\n",
    "OH_cols_test = pd.DataFrame(OH_encoder.transform(titanic_test_predict[columns_OHE]))\n",
    "\n",
    "OH_cols_test.columns = OH_encoder.get_feature_names(columns_OHE)\n",
    "\n",
    "OH_cols_test.index = titanic_test_predict.index\n",
    "\n",
    "num_X_test = titanic_test_predict.drop(columns_OHE, axis=1)\n",
    "\n",
    "test_data = pd.concat([num_X_test, OH_cols_test], axis=1)\n",
    "\n",
    "test_data.columns = test_data.columns.astype(str)\n",
    "\n",
    "print(test_data.head())\n",
    "\n",
    "test_data.isnull().sum()\n"
   ]
  },
  {
   "cell_type": "markdown",
   "id": "fe140d83-a026-4fe1-9d2c-b91aa3b82953",
   "metadata": {
    "tags": []
   },
   "source": [
    "## Generating prediction"
   ]
  },
  {
   "cell_type": "code",
   "execution_count": 23,
   "id": "55ac0736",
   "metadata": {},
   "outputs": [],
   "source": [
    "#best_model = load_model(\"NN.keras\")\n",
    "best_model = joblib.load('RF_model.pkl')"
   ]
  },
  {
   "cell_type": "code",
   "execution_count": 24,
   "id": "bffb3ca9-e9b5-4e48-afd3-b81390e50cbf",
   "metadata": {},
   "outputs": [],
   "source": [
    "#y_pred = (best_model.predict(test_data) > 0.5).astype(int)\n",
    "#y_pred = pd.Series(y_pred[:, 0])\n",
    "\n",
    "y_pred = best_model.predict(test_data)"
   ]
  },
  {
   "cell_type": "code",
   "execution_count": 25,
   "id": "393a9eaf-547b-4a60-8775-7acb5979306f",
   "metadata": {},
   "outputs": [],
   "source": [
    "prediction = pd.DataFrame({\"PassengerId\": titanic_test[\"PassengerId\"],\n",
    "                   \"Survived\": y_pred\n",
    "                  })\n"
   ]
  },
  {
   "cell_type": "code",
   "execution_count": 26,
   "id": "94fd9766-331a-44e7-8f25-5712722e2614",
   "metadata": {},
   "outputs": [
    {
     "data": {
      "text/html": [
       "<div>\n",
       "<style scoped>\n",
       "    .dataframe tbody tr th:only-of-type {\n",
       "        vertical-align: middle;\n",
       "    }\n",
       "\n",
       "    .dataframe tbody tr th {\n",
       "        vertical-align: top;\n",
       "    }\n",
       "\n",
       "    .dataframe thead th {\n",
       "        text-align: right;\n",
       "    }\n",
       "</style>\n",
       "<table border=\"1\" class=\"dataframe\">\n",
       "  <thead>\n",
       "    <tr style=\"text-align: right;\">\n",
       "      <th></th>\n",
       "      <th>PassengerId</th>\n",
       "      <th>Survived</th>\n",
       "    </tr>\n",
       "  </thead>\n",
       "  <tbody>\n",
       "    <tr>\n",
       "      <th>0</th>\n",
       "      <td>892</td>\n",
       "      <td>0</td>\n",
       "    </tr>\n",
       "    <tr>\n",
       "      <th>1</th>\n",
       "      <td>893</td>\n",
       "      <td>0</td>\n",
       "    </tr>\n",
       "    <tr>\n",
       "      <th>2</th>\n",
       "      <td>894</td>\n",
       "      <td>0</td>\n",
       "    </tr>\n",
       "    <tr>\n",
       "      <th>3</th>\n",
       "      <td>895</td>\n",
       "      <td>0</td>\n",
       "    </tr>\n",
       "    <tr>\n",
       "      <th>4</th>\n",
       "      <td>896</td>\n",
       "      <td>0</td>\n",
       "    </tr>\n",
       "  </tbody>\n",
       "</table>\n",
       "</div>"
      ],
      "text/plain": [
       "   PassengerId  Survived\n",
       "0          892         0\n",
       "1          893         0\n",
       "2          894         0\n",
       "3          895         0\n",
       "4          896         0"
      ]
     },
     "execution_count": 26,
     "metadata": {},
     "output_type": "execute_result"
    }
   ],
   "source": [
    "prediction.head()"
   ]
  },
  {
   "cell_type": "code",
   "execution_count": 27,
   "id": "22e57709-cb6e-42eb-bc04-73e009995c66",
   "metadata": {},
   "outputs": [],
   "source": [
    "prediction.to_csv(\"submit_prediction.csv\", index=False)"
   ]
  },
  {
   "cell_type": "markdown",
   "id": "ef6542a2-44df-4a19-a09a-1b0649122cbc",
   "metadata": {
    "jp-MarkdownHeadingCollapsed": true,
    "tags": []
   },
   "source": [
    "## Check correct format"
   ]
  },
  {
   "cell_type": "code",
   "execution_count": 28,
   "id": "76cc75b3-3325-48cf-8bcd-40eed2c88c29",
   "metadata": {},
   "outputs": [
    {
     "data": {
      "text/html": [
       "<div>\n",
       "<style scoped>\n",
       "    .dataframe tbody tr th:only-of-type {\n",
       "        vertical-align: middle;\n",
       "    }\n",
       "\n",
       "    .dataframe tbody tr th {\n",
       "        vertical-align: top;\n",
       "    }\n",
       "\n",
       "    .dataframe thead th {\n",
       "        text-align: right;\n",
       "    }\n",
       "</style>\n",
       "<table border=\"1\" class=\"dataframe\">\n",
       "  <thead>\n",
       "    <tr style=\"text-align: right;\">\n",
       "      <th></th>\n",
       "      <th>PassengerId</th>\n",
       "      <th>Survived</th>\n",
       "    </tr>\n",
       "  </thead>\n",
       "  <tbody>\n",
       "    <tr>\n",
       "      <th>0</th>\n",
       "      <td>892</td>\n",
       "      <td>0</td>\n",
       "    </tr>\n",
       "    <tr>\n",
       "      <th>1</th>\n",
       "      <td>893</td>\n",
       "      <td>1</td>\n",
       "    </tr>\n",
       "    <tr>\n",
       "      <th>2</th>\n",
       "      <td>894</td>\n",
       "      <td>0</td>\n",
       "    </tr>\n",
       "    <tr>\n",
       "      <th>3</th>\n",
       "      <td>895</td>\n",
       "      <td>0</td>\n",
       "    </tr>\n",
       "    <tr>\n",
       "      <th>4</th>\n",
       "      <td>896</td>\n",
       "      <td>1</td>\n",
       "    </tr>\n",
       "  </tbody>\n",
       "</table>\n",
       "</div>"
      ],
      "text/plain": [
       "   PassengerId  Survived\n",
       "0          892         0\n",
       "1          893         1\n",
       "2          894         0\n",
       "3          895         0\n",
       "4          896         1"
      ]
     },
     "execution_count": 28,
     "metadata": {},
     "output_type": "execute_result"
    }
   ],
   "source": [
    "check = pd.read_csv('gender_submission.csv')\n",
    "check.head()"
   ]
  },
  {
   "cell_type": "code",
   "execution_count": 29,
   "id": "d5be4f04-6804-47b5-be7e-0f2e04cd6a19",
   "metadata": {},
   "outputs": [
    {
     "data": {
      "text/html": [
       "<div>\n",
       "<style scoped>\n",
       "    .dataframe tbody tr th:only-of-type {\n",
       "        vertical-align: middle;\n",
       "    }\n",
       "\n",
       "    .dataframe tbody tr th {\n",
       "        vertical-align: top;\n",
       "    }\n",
       "\n",
       "    .dataframe thead th {\n",
       "        text-align: right;\n",
       "    }\n",
       "</style>\n",
       "<table border=\"1\" class=\"dataframe\">\n",
       "  <thead>\n",
       "    <tr style=\"text-align: right;\">\n",
       "      <th></th>\n",
       "      <th>PassengerId</th>\n",
       "      <th>Survived</th>\n",
       "    </tr>\n",
       "  </thead>\n",
       "  <tbody>\n",
       "    <tr>\n",
       "      <th>0</th>\n",
       "      <td>892</td>\n",
       "      <td>0</td>\n",
       "    </tr>\n",
       "    <tr>\n",
       "      <th>1</th>\n",
       "      <td>893</td>\n",
       "      <td>0</td>\n",
       "    </tr>\n",
       "    <tr>\n",
       "      <th>2</th>\n",
       "      <td>894</td>\n",
       "      <td>0</td>\n",
       "    </tr>\n",
       "    <tr>\n",
       "      <th>3</th>\n",
       "      <td>895</td>\n",
       "      <td>0</td>\n",
       "    </tr>\n",
       "    <tr>\n",
       "      <th>4</th>\n",
       "      <td>896</td>\n",
       "      <td>0</td>\n",
       "    </tr>\n",
       "  </tbody>\n",
       "</table>\n",
       "</div>"
      ],
      "text/plain": [
       "   PassengerId  Survived\n",
       "0          892         0\n",
       "1          893         0\n",
       "2          894         0\n",
       "3          895         0\n",
       "4          896         0"
      ]
     },
     "execution_count": 29,
     "metadata": {},
     "output_type": "execute_result"
    }
   ],
   "source": [
    "check = pd.read_csv('submit_prediction.csv')\n",
    "check.head()"
   ]
  },
  {
   "cell_type": "code",
   "execution_count": null,
   "id": "604abd12-e15d-4c64-bea8-a43e782d89fc",
   "metadata": {},
   "outputs": [],
   "source": []
  }
 ],
 "metadata": {
  "kernelspec": {
   "display_name": "Python 3 (ipykernel)",
   "language": "python",
   "name": "python3"
  },
  "language_info": {
   "codemirror_mode": {
    "name": "ipython",
    "version": 3
   },
   "file_extension": ".py",
   "mimetype": "text/x-python",
   "name": "python",
   "nbconvert_exporter": "python",
   "pygments_lexer": "ipython3",
   "version": "3.9.7"
  },
  "toc-autonumbering": true,
  "toc-showmarkdowntxt": false,
  "toc-showtags": false
 },
 "nbformat": 4,
 "nbformat_minor": 5
}
